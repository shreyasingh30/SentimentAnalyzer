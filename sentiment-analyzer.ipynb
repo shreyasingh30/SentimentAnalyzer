{
 "cells": [
  {
   "cell_type": "code",
   "execution_count": 1,
   "metadata": {
    "_cell_guid": "b1076dfc-b9ad-4769-8c92-a6c4dae69d19",
    "_uuid": "8f2839f25d086af736a60e9eeb907d3b93b6e0e5",
    "execution": {
     "iopub.execute_input": "2020-12-08T09:25:24.104999Z",
     "iopub.status.busy": "2020-12-08T09:25:24.104194Z",
     "iopub.status.idle": "2020-12-08T09:25:24.114261Z",
     "shell.execute_reply": "2020-12-08T09:25:24.115201Z"
    },
    "papermill": {
     "duration": 0.03351,
     "end_time": "2020-12-08T09:25:24.115386",
     "exception": false,
     "start_time": "2020-12-08T09:25:24.081876",
     "status": "completed"
    },
    "tags": []
   },
   "outputs": [
    {
     "name": "stdout",
     "output_type": "stream",
     "text": [
      "/kaggle/input/imdb-dataset-of-50k-movie-reviews/IMDB Dataset.csv\n"
     ]
    }
   ],
   "source": [
    "# This Python 3 environment comes with many helpful analytics libraries installed\n",
    "# It is defined by the kaggle/python Docker image: https://github.com/kaggle/docker-python\n",
    "# For example, here's several helpful packages to load\n",
    "\n",
    "import numpy as np # linear algebra\n",
    "import pandas as pd # data processing, CSV file I/O (e.g. pd.read_csv)\n",
    "\n",
    "# Input data files are available in the read-only \"../input/\" directory\n",
    "# For example, running this (by clicking run or pressing Shift+Enter) will list all files under the input directory\n",
    "\n",
    "import os\n",
    "for dirname, _, filenames in os.walk('/kaggle/input'):\n",
    "    for filename in filenames:\n",
    "        print(os.path.join(dirname, filename))\n",
    "\n",
    "# You can write up to 20GB to the current directory (/kaggle/working/) that gets preserved as output when you create a version using \"Save & Run All\" \n",
    "# You can also write temporary files to /kaggle/temp/, but they won't be saved outside of the current session"
   ]
  },
  {
   "cell_type": "code",
   "execution_count": 2,
   "metadata": {
    "_cell_guid": "79c7e3d0-c299-4dcb-8224-4455121ee9b0",
    "_uuid": "d629ff2d2480ee46fbb7e2d37f6b5fab8052498a",
    "execution": {
     "iopub.execute_input": "2020-12-08T09:25:24.148707Z",
     "iopub.status.busy": "2020-12-08T09:25:24.148001Z",
     "iopub.status.idle": "2020-12-08T09:25:25.770289Z",
     "shell.execute_reply": "2020-12-08T09:25:25.769120Z"
    },
    "papermill": {
     "duration": 1.640214,
     "end_time": "2020-12-08T09:25:25.770404",
     "exception": false,
     "start_time": "2020-12-08T09:25:24.130190",
     "status": "completed"
    },
    "tags": []
   },
   "outputs": [],
   "source": [
    "import nltk"
   ]
  },
  {
   "cell_type": "code",
   "execution_count": 3,
   "metadata": {
    "execution": {
     "iopub.execute_input": "2020-12-08T09:25:25.812499Z",
     "iopub.status.busy": "2020-12-08T09:25:25.811796Z",
     "iopub.status.idle": "2020-12-08T09:25:26.407068Z",
     "shell.execute_reply": "2020-12-08T09:25:26.407566Z"
    },
    "papermill": {
     "duration": 0.621011,
     "end_time": "2020-12-08T09:25:26.407729",
     "exception": false,
     "start_time": "2020-12-08T09:25:25.786718",
     "status": "completed"
    },
    "tags": []
   },
   "outputs": [
    {
     "name": "stdout",
     "output_type": "stream",
     "text": [
      "[nltk_data] Downloading package vader_lexicon to\n",
      "[nltk_data]     /usr/share/nltk_data...\n",
      "[nltk_data]   Package vader_lexicon is already up-to-date!\n"
     ]
    },
    {
     "data": {
      "text/plain": [
       "True"
      ]
     },
     "execution_count": 3,
     "metadata": {},
     "output_type": "execute_result"
    }
   ],
   "source": [
    "nltk.download('vader_lexicon')"
   ]
  },
  {
   "cell_type": "code",
   "execution_count": 4,
   "metadata": {
    "execution": {
     "iopub.execute_input": "2020-12-08T09:25:26.441964Z",
     "iopub.status.busy": "2020-12-08T09:25:26.441152Z",
     "iopub.status.idle": "2020-12-08T09:25:26.457482Z",
     "shell.execute_reply": "2020-12-08T09:25:26.458166Z"
    },
    "papermill": {
     "duration": 0.035728,
     "end_time": "2020-12-08T09:25:26.458324",
     "exception": false,
     "start_time": "2020-12-08T09:25:26.422596",
     "status": "completed"
    },
    "tags": []
   },
   "outputs": [
    {
     "name": "stderr",
     "output_type": "stream",
     "text": [
      "/opt/conda/lib/python3.7/site-packages/nltk/twitter/__init__.py:20: UserWarning: The twython library has not been installed. Some functionality from the twitter package will not be available.\n",
      "  warnings.warn(\"The twython library has not been installed. \"\n"
     ]
    }
   ],
   "source": [
    "from nltk.sentiment.vader import SentimentIntensityAnalyzer"
   ]
  },
  {
   "cell_type": "code",
   "execution_count": 5,
   "metadata": {
    "execution": {
     "iopub.execute_input": "2020-12-08T09:25:26.495806Z",
     "iopub.status.busy": "2020-12-08T09:25:26.494903Z",
     "iopub.status.idle": "2020-12-08T09:25:26.513564Z",
     "shell.execute_reply": "2020-12-08T09:25:26.513091Z"
    },
    "papermill": {
     "duration": 0.039473,
     "end_time": "2020-12-08T09:25:26.513679",
     "exception": false,
     "start_time": "2020-12-08T09:25:26.474206",
     "status": "completed"
    },
    "tags": []
   },
   "outputs": [],
   "source": [
    "sid = SentimentIntensityAnalyzer()"
   ]
  },
  {
   "cell_type": "code",
   "execution_count": 6,
   "metadata": {
    "execution": {
     "iopub.execute_input": "2020-12-08T09:25:26.552509Z",
     "iopub.status.busy": "2020-12-08T09:25:26.551528Z",
     "iopub.status.idle": "2020-12-08T09:25:26.555642Z",
     "shell.execute_reply": "2020-12-08T09:25:26.555161Z"
    },
    "papermill": {
     "duration": 0.025623,
     "end_time": "2020-12-08T09:25:26.555747",
     "exception": false,
     "start_time": "2020-12-08T09:25:26.530124",
     "status": "completed"
    },
    "tags": []
   },
   "outputs": [
    {
     "data": {
      "text/plain": [
       "{'neg': 0.0, 'neu': 0.508, 'pos': 0.492, 'compound': 0.4404}"
      ]
     },
     "execution_count": 6,
     "metadata": {},
     "output_type": "execute_result"
    }
   ],
   "source": [
    "a = 'This was a good movie.'\n",
    "sid.polarity_scores(a)"
   ]
  },
  {
   "cell_type": "code",
   "execution_count": 7,
   "metadata": {
    "execution": {
     "iopub.execute_input": "2020-12-08T09:25:26.594386Z",
     "iopub.status.busy": "2020-12-08T09:25:26.593633Z",
     "iopub.status.idle": "2020-12-08T09:25:26.596957Z",
     "shell.execute_reply": "2020-12-08T09:25:26.597455Z"
    },
    "papermill": {
     "duration": 0.025404,
     "end_time": "2020-12-08T09:25:26.597563",
     "exception": false,
     "start_time": "2020-12-08T09:25:26.572159",
     "status": "completed"
    },
    "tags": []
   },
   "outputs": [
    {
     "data": {
      "text/plain": [
       "{'neg': 0.0, 'neu': 0.425, 'pos': 0.575, 'compound': 0.8877}"
      ]
     },
     "execution_count": 7,
     "metadata": {},
     "output_type": "execute_result"
    }
   ],
   "source": [
    "a = 'This was the best, most awesome movie EVER MADE!!!'\n",
    "sid.polarity_scores(a)"
   ]
  },
  {
   "cell_type": "markdown",
   "metadata": {
    "papermill": {
     "duration": 0.01691,
     "end_time": "2020-12-08T09:25:26.631564",
     "exception": false,
     "start_time": "2020-12-08T09:25:26.614654",
     "status": "completed"
    },
    "tags": []
   },
   "source": [
    "**USE VADER TO ANALYZE REVIEWS**"
   ]
  },
  {
   "cell_type": "code",
   "execution_count": 8,
   "metadata": {
    "execution": {
     "iopub.execute_input": "2020-12-08T09:25:26.672474Z",
     "iopub.status.busy": "2020-12-08T09:25:26.671835Z",
     "iopub.status.idle": "2020-12-08T09:25:27.861731Z",
     "shell.execute_reply": "2020-12-08T09:25:27.860522Z"
    },
    "papermill": {
     "duration": 1.213545,
     "end_time": "2020-12-08T09:25:27.861867",
     "exception": false,
     "start_time": "2020-12-08T09:25:26.648322",
     "status": "completed"
    },
    "tags": []
   },
   "outputs": [],
   "source": [
    "import numpy as np\n",
    "import pandas as pd\n",
    "df = pd.read_csv('../input/imdb-dataset-of-50k-movie-reviews/IMDB Dataset.csv')"
   ]
  },
  {
   "cell_type": "code",
   "execution_count": 9,
   "metadata": {
    "execution": {
     "iopub.execute_input": "2020-12-08T09:25:27.904843Z",
     "iopub.status.busy": "2020-12-08T09:25:27.904051Z",
     "iopub.status.idle": "2020-12-08T09:25:27.918012Z",
     "shell.execute_reply": "2020-12-08T09:25:27.917490Z"
    },
    "papermill": {
     "duration": 0.038877,
     "end_time": "2020-12-08T09:25:27.918107",
     "exception": false,
     "start_time": "2020-12-08T09:25:27.879230",
     "status": "completed"
    },
    "tags": []
   },
   "outputs": [
    {
     "data": {
      "text/html": [
       "<div>\n",
       "<style scoped>\n",
       "    .dataframe tbody tr th:only-of-type {\n",
       "        vertical-align: middle;\n",
       "    }\n",
       "\n",
       "    .dataframe tbody tr th {\n",
       "        vertical-align: top;\n",
       "    }\n",
       "\n",
       "    .dataframe thead th {\n",
       "        text-align: right;\n",
       "    }\n",
       "</style>\n",
       "<table border=\"1\" class=\"dataframe\">\n",
       "  <thead>\n",
       "    <tr style=\"text-align: right;\">\n",
       "      <th></th>\n",
       "      <th>review</th>\n",
       "      <th>sentiment</th>\n",
       "    </tr>\n",
       "  </thead>\n",
       "  <tbody>\n",
       "    <tr>\n",
       "      <th>0</th>\n",
       "      <td>One of the other reviewers has mentioned that ...</td>\n",
       "      <td>positive</td>\n",
       "    </tr>\n",
       "    <tr>\n",
       "      <th>1</th>\n",
       "      <td>A wonderful little production. &lt;br /&gt;&lt;br /&gt;The...</td>\n",
       "      <td>positive</td>\n",
       "    </tr>\n",
       "    <tr>\n",
       "      <th>2</th>\n",
       "      <td>I thought this was a wonderful way to spend ti...</td>\n",
       "      <td>positive</td>\n",
       "    </tr>\n",
       "    <tr>\n",
       "      <th>3</th>\n",
       "      <td>Basically there's a family where a little boy ...</td>\n",
       "      <td>negative</td>\n",
       "    </tr>\n",
       "    <tr>\n",
       "      <th>4</th>\n",
       "      <td>Petter Mattei's \"Love in the Time of Money\" is...</td>\n",
       "      <td>positive</td>\n",
       "    </tr>\n",
       "  </tbody>\n",
       "</table>\n",
       "</div>"
      ],
      "text/plain": [
       "                                              review sentiment\n",
       "0  One of the other reviewers has mentioned that ...  positive\n",
       "1  A wonderful little production. <br /><br />The...  positive\n",
       "2  I thought this was a wonderful way to spend ti...  positive\n",
       "3  Basically there's a family where a little boy ...  negative\n",
       "4  Petter Mattei's \"Love in the Time of Money\" is...  positive"
      ]
     },
     "execution_count": 9,
     "metadata": {},
     "output_type": "execute_result"
    }
   ],
   "source": [
    "df.head()"
   ]
  },
  {
   "cell_type": "code",
   "execution_count": 10,
   "metadata": {
    "execution": {
     "iopub.execute_input": "2020-12-08T09:25:27.972536Z",
     "iopub.status.busy": "2020-12-08T09:25:27.971681Z",
     "iopub.status.idle": "2020-12-08T09:25:27.975448Z",
     "shell.execute_reply": "2020-12-08T09:25:27.975991Z"
    },
    "papermill": {
     "duration": 0.040806,
     "end_time": "2020-12-08T09:25:27.976126",
     "exception": false,
     "start_time": "2020-12-08T09:25:27.935320",
     "status": "completed"
    },
    "tags": []
   },
   "outputs": [
    {
     "data": {
      "text/plain": [
       "positive    25000\n",
       "negative    25000\n",
       "Name: sentiment, dtype: int64"
      ]
     },
     "execution_count": 10,
     "metadata": {},
     "output_type": "execute_result"
    }
   ],
   "source": [
    "df['sentiment'].value_counts()"
   ]
  },
  {
   "cell_type": "code",
   "execution_count": 11,
   "metadata": {
    "execution": {
     "iopub.execute_input": "2020-12-08T09:25:28.031851Z",
     "iopub.status.busy": "2020-12-08T09:25:28.031027Z",
     "iopub.status.idle": "2020-12-08T09:25:28.156823Z",
     "shell.execute_reply": "2020-12-08T09:25:28.156282Z"
    },
    "papermill": {
     "duration": 0.162953,
     "end_time": "2020-12-08T09:25:28.156942",
     "exception": false,
     "start_time": "2020-12-08T09:25:27.993989",
     "status": "completed"
    },
    "tags": []
   },
   "outputs": [],
   "source": [
    "# REMOVE NaN VALUES AND EMPTY STRINGS:\n",
    "df.dropna(inplace=True)\n",
    "\n",
    "blanks = []  # start with an empty list\n",
    "\n",
    "for i,lb,rv in df.itertuples():  \n",
    "    if type(rv)==str:            \n",
    "        if rv.isspace():        \n",
    "            blanks.append(i)     \n",
    "\n",
    "df.drop(blanks, inplace=True)"
   ]
  },
  {
   "cell_type": "code",
   "execution_count": 12,
   "metadata": {
    "execution": {
     "iopub.execute_input": "2020-12-08T09:25:28.213759Z",
     "iopub.status.busy": "2020-12-08T09:25:28.208698Z",
     "iopub.status.idle": "2020-12-08T09:28:50.686408Z",
     "shell.execute_reply": "2020-12-08T09:28:50.686903Z"
    },
    "papermill": {
     "duration": 202.511547,
     "end_time": "2020-12-08T09:28:50.687048",
     "exception": false,
     "start_time": "2020-12-08T09:25:28.175501",
     "status": "completed"
    },
    "tags": []
   },
   "outputs": [
    {
     "data": {
      "text/html": [
       "<div>\n",
       "<style scoped>\n",
       "    .dataframe tbody tr th:only-of-type {\n",
       "        vertical-align: middle;\n",
       "    }\n",
       "\n",
       "    .dataframe tbody tr th {\n",
       "        vertical-align: top;\n",
       "    }\n",
       "\n",
       "    .dataframe thead th {\n",
       "        text-align: right;\n",
       "    }\n",
       "</style>\n",
       "<table border=\"1\" class=\"dataframe\">\n",
       "  <thead>\n",
       "    <tr style=\"text-align: right;\">\n",
       "      <th></th>\n",
       "      <th>review</th>\n",
       "      <th>sentiment</th>\n",
       "      <th>scores</th>\n",
       "    </tr>\n",
       "  </thead>\n",
       "  <tbody>\n",
       "    <tr>\n",
       "      <th>0</th>\n",
       "      <td>One of the other reviewers has mentioned that ...</td>\n",
       "      <td>positive</td>\n",
       "      <td>{'neg': 0.203, 'neu': 0.748, 'pos': 0.048, 'co...</td>\n",
       "    </tr>\n",
       "    <tr>\n",
       "      <th>1</th>\n",
       "      <td>A wonderful little production. &lt;br /&gt;&lt;br /&gt;The...</td>\n",
       "      <td>positive</td>\n",
       "      <td>{'neg': 0.053, 'neu': 0.776, 'pos': 0.172, 'co...</td>\n",
       "    </tr>\n",
       "    <tr>\n",
       "      <th>2</th>\n",
       "      <td>I thought this was a wonderful way to spend ti...</td>\n",
       "      <td>positive</td>\n",
       "      <td>{'neg': 0.094, 'neu': 0.714, 'pos': 0.192, 'co...</td>\n",
       "    </tr>\n",
       "    <tr>\n",
       "      <th>3</th>\n",
       "      <td>Basically there's a family where a little boy ...</td>\n",
       "      <td>negative</td>\n",
       "      <td>{'neg': 0.138, 'neu': 0.797, 'pos': 0.065, 'co...</td>\n",
       "    </tr>\n",
       "    <tr>\n",
       "      <th>4</th>\n",
       "      <td>Petter Mattei's \"Love in the Time of Money\" is...</td>\n",
       "      <td>positive</td>\n",
       "      <td>{'neg': 0.052, 'neu': 0.801, 'pos': 0.147, 'co...</td>\n",
       "    </tr>\n",
       "  </tbody>\n",
       "</table>\n",
       "</div>"
      ],
      "text/plain": [
       "                                              review sentiment  \\\n",
       "0  One of the other reviewers has mentioned that ...  positive   \n",
       "1  A wonderful little production. <br /><br />The...  positive   \n",
       "2  I thought this was a wonderful way to spend ti...  positive   \n",
       "3  Basically there's a family where a little boy ...  negative   \n",
       "4  Petter Mattei's \"Love in the Time of Money\" is...  positive   \n",
       "\n",
       "                                              scores  \n",
       "0  {'neg': 0.203, 'neu': 0.748, 'pos': 0.048, 'co...  \n",
       "1  {'neg': 0.053, 'neu': 0.776, 'pos': 0.172, 'co...  \n",
       "2  {'neg': 0.094, 'neu': 0.714, 'pos': 0.192, 'co...  \n",
       "3  {'neg': 0.138, 'neu': 0.797, 'pos': 0.065, 'co...  \n",
       "4  {'neg': 0.052, 'neu': 0.801, 'pos': 0.147, 'co...  "
      ]
     },
     "execution_count": 12,
     "metadata": {},
     "output_type": "execute_result"
    }
   ],
   "source": [
    "df['scores'] = df['review'].apply(lambda review: sid.polarity_scores(review))\n",
    "\n",
    "df.head()"
   ]
  },
  {
   "cell_type": "code",
   "execution_count": 13,
   "metadata": {
    "execution": {
     "iopub.execute_input": "2020-12-08T09:28:50.749011Z",
     "iopub.status.busy": "2020-12-08T09:28:50.732467Z",
     "iopub.status.idle": "2020-12-08T09:28:50.763316Z",
     "shell.execute_reply": "2020-12-08T09:28:50.763859Z"
    },
    "papermill": {
     "duration": 0.058977,
     "end_time": "2020-12-08T09:28:50.763980",
     "exception": false,
     "start_time": "2020-12-08T09:28:50.705003",
     "status": "completed"
    },
    "tags": []
   },
   "outputs": [
    {
     "data": {
      "text/html": [
       "<div>\n",
       "<style scoped>\n",
       "    .dataframe tbody tr th:only-of-type {\n",
       "        vertical-align: middle;\n",
       "    }\n",
       "\n",
       "    .dataframe tbody tr th {\n",
       "        vertical-align: top;\n",
       "    }\n",
       "\n",
       "    .dataframe thead th {\n",
       "        text-align: right;\n",
       "    }\n",
       "</style>\n",
       "<table border=\"1\" class=\"dataframe\">\n",
       "  <thead>\n",
       "    <tr style=\"text-align: right;\">\n",
       "      <th></th>\n",
       "      <th>review</th>\n",
       "      <th>sentiment</th>\n",
       "      <th>scores</th>\n",
       "      <th>compound</th>\n",
       "    </tr>\n",
       "  </thead>\n",
       "  <tbody>\n",
       "    <tr>\n",
       "      <th>0</th>\n",
       "      <td>One of the other reviewers has mentioned that ...</td>\n",
       "      <td>positive</td>\n",
       "      <td>{'neg': 0.203, 'neu': 0.748, 'pos': 0.048, 'co...</td>\n",
       "      <td>-0.9951</td>\n",
       "    </tr>\n",
       "    <tr>\n",
       "      <th>1</th>\n",
       "      <td>A wonderful little production. &lt;br /&gt;&lt;br /&gt;The...</td>\n",
       "      <td>positive</td>\n",
       "      <td>{'neg': 0.053, 'neu': 0.776, 'pos': 0.172, 'co...</td>\n",
       "      <td>0.9641</td>\n",
       "    </tr>\n",
       "    <tr>\n",
       "      <th>2</th>\n",
       "      <td>I thought this was a wonderful way to spend ti...</td>\n",
       "      <td>positive</td>\n",
       "      <td>{'neg': 0.094, 'neu': 0.714, 'pos': 0.192, 'co...</td>\n",
       "      <td>0.9605</td>\n",
       "    </tr>\n",
       "    <tr>\n",
       "      <th>3</th>\n",
       "      <td>Basically there's a family where a little boy ...</td>\n",
       "      <td>negative</td>\n",
       "      <td>{'neg': 0.138, 'neu': 0.797, 'pos': 0.065, 'co...</td>\n",
       "      <td>-0.9213</td>\n",
       "    </tr>\n",
       "    <tr>\n",
       "      <th>4</th>\n",
       "      <td>Petter Mattei's \"Love in the Time of Money\" is...</td>\n",
       "      <td>positive</td>\n",
       "      <td>{'neg': 0.052, 'neu': 0.801, 'pos': 0.147, 'co...</td>\n",
       "      <td>0.9744</td>\n",
       "    </tr>\n",
       "  </tbody>\n",
       "</table>\n",
       "</div>"
      ],
      "text/plain": [
       "                                              review sentiment  \\\n",
       "0  One of the other reviewers has mentioned that ...  positive   \n",
       "1  A wonderful little production. <br /><br />The...  positive   \n",
       "2  I thought this was a wonderful way to spend ti...  positive   \n",
       "3  Basically there's a family where a little boy ...  negative   \n",
       "4  Petter Mattei's \"Love in the Time of Money\" is...  positive   \n",
       "\n",
       "                                              scores  compound  \n",
       "0  {'neg': 0.203, 'neu': 0.748, 'pos': 0.048, 'co...   -0.9951  \n",
       "1  {'neg': 0.053, 'neu': 0.776, 'pos': 0.172, 'co...    0.9641  \n",
       "2  {'neg': 0.094, 'neu': 0.714, 'pos': 0.192, 'co...    0.9605  \n",
       "3  {'neg': 0.138, 'neu': 0.797, 'pos': 0.065, 'co...   -0.9213  \n",
       "4  {'neg': 0.052, 'neu': 0.801, 'pos': 0.147, 'co...    0.9744  "
      ]
     },
     "execution_count": 13,
     "metadata": {},
     "output_type": "execute_result"
    }
   ],
   "source": [
    "df['compound']  = df['scores'].apply(lambda score_dict: score_dict['compound'])\n",
    "\n",
    "df.head()"
   ]
  },
  {
   "cell_type": "code",
   "execution_count": 14,
   "metadata": {
    "execution": {
     "iopub.execute_input": "2020-12-08T09:28:50.828601Z",
     "iopub.status.busy": "2020-12-08T09:28:50.821643Z",
     "iopub.status.idle": "2020-12-08T09:28:50.844488Z",
     "shell.execute_reply": "2020-12-08T09:28:50.845015Z"
    },
    "papermill": {
     "duration": 0.060255,
     "end_time": "2020-12-08T09:28:50.845138",
     "exception": false,
     "start_time": "2020-12-08T09:28:50.784883",
     "status": "completed"
    },
    "tags": []
   },
   "outputs": [
    {
     "data": {
      "text/html": [
       "<div>\n",
       "<style scoped>\n",
       "    .dataframe tbody tr th:only-of-type {\n",
       "        vertical-align: middle;\n",
       "    }\n",
       "\n",
       "    .dataframe tbody tr th {\n",
       "        vertical-align: top;\n",
       "    }\n",
       "\n",
       "    .dataframe thead th {\n",
       "        text-align: right;\n",
       "    }\n",
       "</style>\n",
       "<table border=\"1\" class=\"dataframe\">\n",
       "  <thead>\n",
       "    <tr style=\"text-align: right;\">\n",
       "      <th></th>\n",
       "      <th>review</th>\n",
       "      <th>sentiment</th>\n",
       "      <th>scores</th>\n",
       "      <th>compound</th>\n",
       "      <th>comp_score</th>\n",
       "    </tr>\n",
       "  </thead>\n",
       "  <tbody>\n",
       "    <tr>\n",
       "      <th>0</th>\n",
       "      <td>One of the other reviewers has mentioned that ...</td>\n",
       "      <td>positive</td>\n",
       "      <td>{'neg': 0.203, 'neu': 0.748, 'pos': 0.048, 'co...</td>\n",
       "      <td>-0.9951</td>\n",
       "      <td>negative</td>\n",
       "    </tr>\n",
       "    <tr>\n",
       "      <th>1</th>\n",
       "      <td>A wonderful little production. &lt;br /&gt;&lt;br /&gt;The...</td>\n",
       "      <td>positive</td>\n",
       "      <td>{'neg': 0.053, 'neu': 0.776, 'pos': 0.172, 'co...</td>\n",
       "      <td>0.9641</td>\n",
       "      <td>positive</td>\n",
       "    </tr>\n",
       "    <tr>\n",
       "      <th>2</th>\n",
       "      <td>I thought this was a wonderful way to spend ti...</td>\n",
       "      <td>positive</td>\n",
       "      <td>{'neg': 0.094, 'neu': 0.714, 'pos': 0.192, 'co...</td>\n",
       "      <td>0.9605</td>\n",
       "      <td>positive</td>\n",
       "    </tr>\n",
       "    <tr>\n",
       "      <th>3</th>\n",
       "      <td>Basically there's a family where a little boy ...</td>\n",
       "      <td>negative</td>\n",
       "      <td>{'neg': 0.138, 'neu': 0.797, 'pos': 0.065, 'co...</td>\n",
       "      <td>-0.9213</td>\n",
       "      <td>negative</td>\n",
       "    </tr>\n",
       "    <tr>\n",
       "      <th>4</th>\n",
       "      <td>Petter Mattei's \"Love in the Time of Money\" is...</td>\n",
       "      <td>positive</td>\n",
       "      <td>{'neg': 0.052, 'neu': 0.801, 'pos': 0.147, 'co...</td>\n",
       "      <td>0.9744</td>\n",
       "      <td>positive</td>\n",
       "    </tr>\n",
       "  </tbody>\n",
       "</table>\n",
       "</div>"
      ],
      "text/plain": [
       "                                              review sentiment  \\\n",
       "0  One of the other reviewers has mentioned that ...  positive   \n",
       "1  A wonderful little production. <br /><br />The...  positive   \n",
       "2  I thought this was a wonderful way to spend ti...  positive   \n",
       "3  Basically there's a family where a little boy ...  negative   \n",
       "4  Petter Mattei's \"Love in the Time of Money\" is...  positive   \n",
       "\n",
       "                                              scores  compound comp_score  \n",
       "0  {'neg': 0.203, 'neu': 0.748, 'pos': 0.048, 'co...   -0.9951   negative  \n",
       "1  {'neg': 0.053, 'neu': 0.776, 'pos': 0.172, 'co...    0.9641   positive  \n",
       "2  {'neg': 0.094, 'neu': 0.714, 'pos': 0.192, 'co...    0.9605   positive  \n",
       "3  {'neg': 0.138, 'neu': 0.797, 'pos': 0.065, 'co...   -0.9213   negative  \n",
       "4  {'neg': 0.052, 'neu': 0.801, 'pos': 0.147, 'co...    0.9744   positive  "
      ]
     },
     "execution_count": 14,
     "metadata": {},
     "output_type": "execute_result"
    }
   ],
   "source": [
    "df['comp_score'] = df['compound'].apply(lambda c: 'positive' if c >=0 else 'negative')\n",
    "\n",
    "df.head()"
   ]
  },
  {
   "cell_type": "code",
   "execution_count": 15,
   "metadata": {
    "execution": {
     "iopub.execute_input": "2020-12-08T09:28:50.893645Z",
     "iopub.status.busy": "2020-12-08T09:28:50.892738Z",
     "iopub.status.idle": "2020-12-08T09:28:50.896010Z",
     "shell.execute_reply": "2020-12-08T09:28:50.895449Z"
    },
    "papermill": {
     "duration": 0.029629,
     "end_time": "2020-12-08T09:28:50.896117",
     "exception": false,
     "start_time": "2020-12-08T09:28:50.866488",
     "status": "completed"
    },
    "tags": []
   },
   "outputs": [],
   "source": [
    "from sklearn.metrics import accuracy_score, classification_report, confusion_matrix"
   ]
  },
  {
   "cell_type": "code",
   "execution_count": 16,
   "metadata": {
    "execution": {
     "iopub.execute_input": "2020-12-08T09:28:51.032768Z",
     "iopub.status.busy": "2020-12-08T09:28:50.986833Z",
     "iopub.status.idle": "2020-12-08T09:28:51.140807Z",
     "shell.execute_reply": "2020-12-08T09:28:51.141283Z"
    },
    "papermill": {
     "duration": 0.221946,
     "end_time": "2020-12-08T09:28:51.141402",
     "exception": false,
     "start_time": "2020-12-08T09:28:50.919456",
     "status": "completed"
    },
    "tags": []
   },
   "outputs": [
    {
     "data": {
      "text/plain": [
       "0.69426"
      ]
     },
     "execution_count": 16,
     "metadata": {},
     "output_type": "execute_result"
    }
   ],
   "source": [
    "accuracy_score(df['sentiment'],df['comp_score'])"
   ]
  },
  {
   "cell_type": "code",
   "execution_count": 17,
   "metadata": {
    "execution": {
     "iopub.execute_input": "2020-12-08T09:28:51.270489Z",
     "iopub.status.busy": "2020-12-08T09:28:51.225767Z",
     "iopub.status.idle": "2020-12-08T09:28:54.523172Z",
     "shell.execute_reply": "2020-12-08T09:28:54.523622Z"
    },
    "papermill": {
     "duration": 3.361988,
     "end_time": "2020-12-08T09:28:54.523788",
     "exception": false,
     "start_time": "2020-12-08T09:28:51.161800",
     "status": "completed"
    },
    "tags": []
   },
   "outputs": [
    {
     "name": "stdout",
     "output_type": "stream",
     "text": [
      "              precision    recall  f1-score   support\n",
      "\n",
      "    negative       0.79      0.53      0.64     25000\n",
      "    positive       0.65      0.86      0.74     25000\n",
      "\n",
      "    accuracy                           0.69     50000\n",
      "   macro avg       0.72      0.69      0.69     50000\n",
      "weighted avg       0.72      0.69      0.69     50000\n",
      "\n"
     ]
    }
   ],
   "source": [
    "print(classification_report(df['sentiment'],df['comp_score']))"
   ]
  },
  {
   "cell_type": "code",
   "execution_count": 18,
   "metadata": {
    "execution": {
     "iopub.execute_input": "2020-12-08T09:28:54.797209Z",
     "iopub.status.busy": "2020-12-08T09:28:54.655277Z",
     "iopub.status.idle": "2020-12-08T09:28:54.981224Z",
     "shell.execute_reply": "2020-12-08T09:28:54.980384Z"
    },
    "papermill": {
     "duration": 0.436616,
     "end_time": "2020-12-08T09:28:54.981370",
     "exception": false,
     "start_time": "2020-12-08T09:28:54.544754",
     "status": "completed"
    },
    "tags": []
   },
   "outputs": [
    {
     "name": "stdout",
     "output_type": "stream",
     "text": [
      "[[13307 11693]\n",
      " [ 3594 21406]]\n"
     ]
    }
   ],
   "source": [
    "print(confusion_matrix(df['sentiment'],df['comp_score']))"
   ]
  },
  {
   "cell_type": "code",
   "execution_count": null,
   "metadata": {
    "papermill": {
     "duration": 0.021272,
     "end_time": "2020-12-08T09:28:55.024452",
     "exception": false,
     "start_time": "2020-12-08T09:28:55.003180",
     "status": "completed"
    },
    "tags": []
   },
   "outputs": [],
   "source": []
  }
 ],
 "metadata": {
  "kernelspec": {
   "display_name": "Python 3",
   "language": "python",
   "name": "python3"
  },
  "language_info": {
   "codemirror_mode": {
    "name": "ipython",
    "version": 3
   },
   "file_extension": ".py",
   "mimetype": "text/x-python",
   "name": "python",
   "nbconvert_exporter": "python",
   "pygments_lexer": "ipython3",
   "version": "3.7.6"
  },
  "papermill": {
   "duration": 216.003703,
   "end_time": "2020-12-08T09:28:55.153137",
   "environment_variables": {},
   "exception": null,
   "input_path": "__notebook__.ipynb",
   "output_path": "__notebook__.ipynb",
   "parameters": {},
   "start_time": "2020-12-08T09:25:19.149434",
   "version": "2.1.0"
  }
 },
 "nbformat": 4,
 "nbformat_minor": 4
}
